{
 "cells": [
  {
   "cell_type": "markdown",
   "metadata": {},
   "source": [
    "# Problem statements"
   ]
  },
  {
   "cell_type": "markdown",
   "metadata": {},
   "source": [
    "###  Mr Li operates the best bakery in San Francisco. He makes the best sourdough bread.\n",
    "### Currently, his bakery is currently providing fresh sourdough to 30 American restaurants in San Francisco\n",
    "\n",
    "\n",
    "\n",
    "\n",
    "\n"
   ]
  },
  {
   "cell_type": "markdown",
   "metadata": {},
   "source": [
    "__Problem 1__  \n",
    "Mr Li is planning to move his bakery to a new location.   \n",
    "In order to provide the freshest bread, he wants to find __a place that is right in the center all his current customers__  \n",
    "This would keep the total delivery time to his customer minimal"
   ]
  },
  {
   "cell_type": "markdown",
   "metadata": {},
   "source": [
    "__Problem 2__  \n",
    "Mr Li also has plans to expand his customer base to __90__ in the next two years  \n",
    "He already knows the locations of the 60 new customers  \n",
    "He wants to find out __the optimal number of kitchens__ to serve the extra demand and __the approximate locations of these kitchens__  "
   ]
  },
  {
   "cell_type": "code",
   "execution_count": null,
   "metadata": {},
   "outputs": [],
   "source": []
  }
 ],
 "metadata": {
  "kernelspec": {
   "display_name": "Python",
   "language": "python",
   "name": "conda-env-python-py"
  },
  "language_info": {
   "codemirror_mode": {
    "name": "ipython",
    "version": 3
   },
   "file_extension": ".py",
   "mimetype": "text/x-python",
   "name": "python",
   "nbconvert_exporter": "python",
   "pygments_lexer": "ipython3",
   "version": "3.6.11"
  }
 },
 "nbformat": 4,
 "nbformat_minor": 4
}
